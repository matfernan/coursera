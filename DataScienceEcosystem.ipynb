{
 "cells": [
  {
   "cell_type": "markdown",
   "id": "f19d3ff2-3521-488d-8d1f-df5876d09f57",
   "metadata": {},
   "source": [
    "# Data Science Tools and Ecosystem"
   ]
  },
  {
   "cell_type": "markdown",
   "id": "a7c21df8-efb6-43f8-9175-95a291a74e7c",
   "metadata": {},
   "source": [
    "In this notebook, Data Science Tools and Ecosystem are summarized."
   ]
  },
  {
   "cell_type": "markdown",
   "id": "741000e5-a455-4183-aad0-ae4cd1c38b8e",
   "metadata": {},
   "source": [
    "**Objectives:**\n",
    "\n",
    "- List popular Data Science Languages\n",
    "- List popular Data Science Libraries\n",
    "- List Data Science Tools\n",
    "- Test arithmetic expressions in Pyhton\n",
    "- Explore markdown "
   ]
  },
  {
   "cell_type": "markdown",
   "id": "76303303-7b73-41ff-b7e0-c5a1a91f59c5",
   "metadata": {},
   "source": [
    "Some of the popular languages that Data Scientists use are:\n",
    "    \n",
    "    1. Python\n",
    "    2. R\n",
    "    3. Julia\n",
    "    4. Matlab"
   ]
  },
  {
   "cell_type": "markdown",
   "id": "eabfff54-42d6-4ee0-9ea2-b0744e923e15",
   "metadata": {
    "tags": []
   },
   "source": [
    "Some of the commonly used libraries used by Data Scientists include:\n",
    "1. TensorFlow\n",
    "2. ScikitLearn\n",
    "3. Keras\n",
    "4. Numpy"
   ]
  },
  {
   "cell_type": "markdown",
   "id": "7bc6d792-7074-4862-b556-c75f46b32393",
   "metadata": {
    "tags": []
   },
   "source": [
    "|Data Science Tools|\n",
    "---\n",
    "RapidMiner\n",
    "Apache Hadoop\n",
    "RStudio"
   ]
  },
  {
   "cell_type": "markdown",
   "id": "c20bdd3d-d1b4-482f-88f1-62176b6e5473",
   "metadata": {},
   "source": [
    "### Below are a few examples of evaluating arithmetic expressions in Python"
   ]
  },
  {
   "cell_type": "code",
   "execution_count": 4,
   "id": "0607bb55-088d-4645-baa9-640d1ab4e8a2",
   "metadata": {
    "tags": []
   },
   "outputs": [
    {
     "data": {
      "text/plain": [
       "17"
      ]
     },
     "execution_count": 4,
     "metadata": {},
     "output_type": "execute_result"
    }
   ],
   "source": [
    "# this is a simple arithmetic expression to test operators of multiplication and sum\n",
    "(3*4)+5  "
   ]
  },
  {
   "cell_type": "code",
   "execution_count": 5,
   "id": "042bb0a3-7326-4650-92db-c6d547056019",
   "metadata": {
    "tags": []
   },
   "outputs": [
    {
     "data": {
      "text/plain": [
       "3.3333333333333335"
      ]
     },
     "execution_count": 5,
     "metadata": {},
     "output_type": "execute_result"
    }
   ],
   "source": [
    "# this example converts 200 minutes in hours, dividing by 60\n",
    "200/60"
   ]
  },
  {
   "cell_type": "markdown",
   "id": "d2646667-cbd6-4b7d-87c4-f59018187d25",
   "metadata": {},
   "source": [
    "## Author:\n",
    "Mateus de Araujo Fernandes"
   ]
  }
 ],
 "metadata": {
  "kernelspec": {
   "display_name": "Python",
   "language": "python",
   "name": "conda-env-python-py"
  },
  "language_info": {
   "codemirror_mode": {
    "name": "ipython",
    "version": 3
   },
   "file_extension": ".py",
   "mimetype": "text/x-python",
   "name": "python",
   "nbconvert_exporter": "python",
   "pygments_lexer": "ipython3",
   "version": "3.7.12"
  }
 },
 "nbformat": 4,
 "nbformat_minor": 5
}
